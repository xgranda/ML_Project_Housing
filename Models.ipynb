{
 "cells": [
  {
   "cell_type": "code",
   "execution_count": 1,
   "metadata": {
    "scrolled": true
   },
   "outputs": [],
   "source": [
    "import pandas as pd\n",
    "import numpy as np\n",
    "import re\n",
    "from matplotlib import pyplot as plt\n",
    "plt.style.use('ggplot')\n",
    "import seaborn as sns"
   ]
  },
  {
   "cell_type": "markdown",
   "metadata": {},
   "source": [
    "## Reading the training data"
   ]
  },
  {
   "cell_type": "code",
   "execution_count": 2,
   "metadata": {
    "scrolled": true
   },
   "outputs": [],
   "source": [
    "df_raw_x = pd.read_csv('train.csv')\n",
    "df_raw_y = pd.read_csv('test.csv')\n",
    "\n",
    "# create a copy of the df to preserve the raw data\n",
    "# df_train = df_raw_x.copy()\n",
    "# df_test = df_raw_y.copy()"
   ]
  },
  {
   "cell_type": "code",
   "execution_count": 3,
   "metadata": {
    "scrolled": true
   },
   "outputs": [],
   "source": [
    "df_agg = pd.concat([df_raw_x, df_raw_y], axis = 0, sort = False)"
   ]
  },
  {
   "cell_type": "code",
   "execution_count": 4,
   "metadata": {
    "scrolled": true
   },
   "outputs": [],
   "source": [
    "pd.set_option(\"display.max_columns\", 100)"
   ]
  },
  {
   "cell_type": "markdown",
   "metadata": {},
   "source": [
    "## Data Processing\n",
    "\n",
    "#### Define a check function for columns with missing values to help check the data processing status"
   ]
  },
  {
   "cell_type": "code",
   "execution_count": 5,
   "metadata": {
    "scrolled": true
   },
   "outputs": [],
   "source": [
    "def get_Nan(dataframe):\n",
    "    total_nans=dataframe.isnull().sum().sum()\n",
    "    print('Total Number of NaNs:')\n",
    "    print(total_nans)\n",
    "    print('-'*50)\n",
    "    \n",
    "    percent_nans=(total_nans/(dataframe.shape[0]*dataframe.shape[1]))*100\n",
    "    print('Percentage of NaNs in total data:')\n",
    "    print(percent_nans)\n",
    "    print('-'*50)\n",
    "\n",
    "    print('Number of NaNs per column')\n",
    "    #Pre-processing steps\n",
    "    col_nan=pd.DataFrame(dataframe.isnull().sum())\n",
    "    col_nan=col_nan.reset_index()\n",
    "    col_nan=col_nan.rename(columns={'index':'column', 0:'total.Nans'})\n",
    "    #convert to percentage of NaN's per row\n",
    "    col_nan['total.Nans']=(col_nan['total.Nans']/len(dataframe))*100\n",
    "    return (round(col_nan.sort_values(by='total.Nans', ascending=False).loc[(col_nan['total.Nans'])>0],ndigits=2))        "
   ]
  },
  {
   "cell_type": "code",
   "execution_count": null,
   "metadata": {
    "scrolled": true
   },
   "outputs": [],
   "source": [
    "# df_train.corr().SalePrice.sort_values(ascending = False)"
   ]
  },
  {
   "cell_type": "markdown",
   "metadata": {},
   "source": [
    "##### Fill missing values"
   ]
  },
  {
   "cell_type": "code",
   "execution_count": 8,
   "metadata": {
    "scrolled": true
   },
   "outputs": [],
   "source": [
    "# Fill Na of PoolQC with 'NoPool' because in description text Na means that there is no pool\n",
    "df_agg['PoolQC']=df_agg['PoolQC'].fillna('NoPool')\n",
    "\n",
    "# Check MiscFeature, in description text Na means there are no extra features so Na will be replaced with 'None'\n",
    "df_agg['MiscFeature']=df_agg['MiscFeature'].fillna('None')\n",
    "\n",
    "# Check Alley column, in description text Na means there is no alley access, Na will be replaced with 'NoAccess'\n",
    "df_agg['Alley']=df_agg['Alley'].fillna('NoAccess')\n",
    "\n",
    "# Check Fence column, in description text Na means no fence, Na will be replaced with 'NoFence'\n",
    "df_agg['Fence']=df_agg['Fence'].fillna('NoFence')\n",
    "\n",
    "# Use square root of lot area to fill missing 'LotFrontage'\n",
    "df_agg['LotFrontage'] = df_agg['LotFrontage'].fillna(np.sqrt(df_agg['LotArea']))\n",
    "\n",
    "# Fill missing values with 0s - missing due to no such facilities on the properties\n",
    "df_agg['GarageYrBlt'] = df_agg['GarageYrBlt'].fillna(df_agg.GarageYrBlt.min() - 1)\n",
    "# One typo in the test dataset with 2207 as garage year for a 2007-built house\n",
    "df_agg['GarageYrBlt'] = [2007 if x > 2010 else x for x in df_agg.GarageYrBlt]\n",
    "\n",
    "df_agg['MasVnrArea'] = df_agg['MasVnrArea'].fillna(0)\n",
    "\n",
    "# Fill missing values within the test file\n",
    "df_agg['BsmtUnfSF'] = df_agg['BsmtUnfSF'].fillna(0)\n",
    "df_agg['GarageArea'] = df_agg['GarageArea'].fillna(0)\n",
    "df_agg['TotalBsmtSF'] = df_agg['TotalBsmtSF'].fillna(0)\n",
    "df_agg['BsmtFullBath'] = df_agg['BsmtFullBath'].fillna(0)\n",
    "df_agg['BsmtHalfBath'] = df_agg['BsmtHalfBath'].fillna(0)\n",
    "df_agg['BsmtFinSF1'] = df_agg['BsmtFinSF1'].fillna(0)\n",
    "df_agg['BsmtFinSF2'] = df_agg['BsmtFinSF2'].fillna(0)\n",
    "df_agg['GarageCars'] = df_agg['GarageCars'].fillna(0)"
   ]
  },
  {
   "cell_type": "code",
   "execution_count": 25,
   "metadata": {},
   "outputs": [],
   "source": [
    "# get_Nan(df_agg)"
   ]
  },
  {
   "cell_type": "code",
   "execution_count": 24,
   "metadata": {},
   "outputs": [],
   "source": [
    "# rf_x_test.isnull().sum().sort_values(ascending = False)"
   ]
  },
  {
   "cell_type": "markdown",
   "metadata": {},
   "source": [
    "#### Adding new features: HouseAge, Vintage, OutdoorArea, TotalBath and PricePerSF"
   ]
  },
  {
   "cell_type": "code",
   "execution_count": 12,
   "metadata": {
    "scrolled": true
   },
   "outputs": [],
   "source": [
    "# one obs in training dataset with YrSold < YearRemodAdd\n",
    "df_agg['HouseAge'] = df_agg.YrSold - df_agg.YearRemodAdd\n",
    "df_agg['HouseAge'] = [0 if x < 0 else x for x in df_agg.HouseAge]\n",
    "\n",
    "# one obs in test dataset with YrSold < YearBuilt\n",
    "df_agg['Vintage'] = df_agg.YrSold - df_agg.YearBuilt\n",
    "df_agg['Vintage'] = [0 if x < 0 else x for x in df_agg.Vintage]\n",
    "\n",
    "# one obs in test dataset with YrSold < GarageYrBlt\n",
    "df_agg['GarageAge'] = df_agg.YrSold - df_agg.GarageYrBlt\n",
    "df_agg['GarageAge'] = [0 if x < 0 else x for x in df_agg.GarageAge]\n",
    "\n",
    "df_agg['OutdoorArea'] = df_agg.PoolArea + df_agg.WoodDeckSF + df_agg.OpenPorchSF + df_agg.ScreenPorch + df_agg['3SsnPorch'] + df_agg.EnclosedPorch\n",
    "df_agg['TotalBath'] = df_agg.FullBath + df_agg.BsmtFullBath\n",
    "df_agg['TotalLvArea'] = df_agg.GrLivArea + df_agg.TotalBsmtSF# + df_agg.OutdoorArea\n",
    "df_agg['TotalArea'] = df_agg.OutdoorArea + df_agg.GrLivArea + df_agg.TotalBsmtSF + df_agg.GarageArea\n",
    "\n",
    "# Create a potential alternative target variable PricePerSF\n",
    "df_agg['PricePerSF'] = df_agg.SalePrice / df_agg.TotalLvArea\n",
    "\n",
    "# Consolidate some categorical variables\n",
    "df_agg['LotShapeBin'] = ['Reg' if x == 'Reg' else 'IR' for x in df_agg.LotShape]\n",
    "df_agg['PoolBin'] = ['No' if x == 'NoPool' else 'Yes' for x in df_agg.PoolQC]\n",
    "df_agg['FireplacesBin'] = ['No' if x == 0 else 'Yes' for x in df_agg.Fireplaces]"
   ]
  },
  {
   "cell_type": "code",
   "execution_count": null,
   "metadata": {},
   "outputs": [],
   "source": [
    "# this section is just to test any typo or mistakes in the trainig and test datasets\n",
    "\n",
    "(df_agg.describe() < 0).sum()\n",
    "df_agg[df_agg.GarageYrBlt > 2010]\n",
    "df_agg[df_agg.GarageYrBlt > 1895].GarageYrBlt.describe()\n",
    "df_agg[df_agg.SalePrice.isnull()]\n",
    "(df_agg.describe() > 2010).sum()\n",
    "df_agg.GarageAge.describe()"
   ]
  },
  {
   "cell_type": "markdown",
   "metadata": {},
   "source": [
    "##### Separate the training dataset "
   ]
  },
  {
   "cell_type": "code",
   "execution_count": 13,
   "metadata": {
    "scrolled": true
   },
   "outputs": [
    {
     "data": {
      "text/plain": [
       "(1460, 92)"
      ]
     },
     "execution_count": 13,
     "metadata": {},
     "output_type": "execute_result"
    }
   ],
   "source": [
    "df_train = df_agg[: 1460]\n",
    "df_test = df_agg[1460:]\n",
    "df_train.shape"
   ]
  },
  {
   "cell_type": "code",
   "execution_count": 14,
   "metadata": {
    "scrolled": true
   },
   "outputs": [
    {
     "data": {
      "text/plain": [
       "(2919, 92)"
      ]
     },
     "execution_count": 14,
     "metadata": {},
     "output_type": "execute_result"
    }
   ],
   "source": [
    "df_agg.shape"
   ]
  },
  {
   "cell_type": "code",
   "execution_count": 15,
   "metadata": {
    "scrolled": true
   },
   "outputs": [
    {
     "data": {
      "text/plain": [
       "1.8828757597682129"
      ]
     },
     "execution_count": 15,
     "metadata": {},
     "output_type": "execute_result"
    },
    {
     "data": {
      "image/png": "[encoded data removed]",
      "text/plain": [
       "<Figure size 432x288 with 1 Axes>"
      ]
     },
     "metadata": {
      "needs_background": "light"
     },
     "output_type": "display_data"
    }
   ],
   "source": [
    "sns.distplot(df_train.SalePrice)\n",
    "df_train.SalePrice.skew()"
   ]
  },
  {
   "cell_type": "markdown",
   "metadata": {},
   "source": [
    "#### Take log of SalePrice to reduce skewness"
   ]
  },
  {
   "cell_type": "code",
   "execution_count": null,
   "metadata": {
    "scrolled": true
   },
   "outputs": [],
   "source": [
    "sns.distplot(np.log(df_train.SalePrice))\n",
    "np.log(df_train.SalePrice).skew()\n",
    "# np.log(np.log(df_train.SalePrice)).skew()\n",
    "# sns.distplot(np.log(np.log(df_train.SalePrice)))"
   ]
  },
  {
   "cell_type": "markdown",
   "metadata": {},
   "source": [
    "#### Check skewness of PricePerSF - No need to take log"
   ]
  },
  {
   "cell_type": "code",
   "execution_count": null,
   "metadata": {
    "scrolled": true
   },
   "outputs": [],
   "source": [
    "sns.distplot(df_train.PricePerSF)\n",
    "df_train.PricePerSF.skew()"
   ]
  },
  {
   "cell_type": "code",
   "execution_count": null,
   "metadata": {
    "scrolled": true
   },
   "outputs": [],
   "source": [
    "sns.scatterplot(df_train.LotArea, df_train.PricePerSF)\n",
    "df_train[df_train.LotArea > 100000]"
   ]
  },
  {
   "cell_type": "code",
   "execution_count": null,
   "metadata": {
    "scrolled": true
   },
   "outputs": [],
   "source": [
    "sns.scatterplot(df_train.TotalBsmtSF, df_train.PricePerSF)"
   ]
  },
  {
   "cell_type": "code",
   "execution_count": null,
   "metadata": {
    "scrolled": true
   },
   "outputs": [],
   "source": [
    "sns.regplot(df_rf_x.LotFrontage, np.sqrt(df_rf_x.LotArea))"
   ]
  },
  {
   "cell_type": "markdown",
   "metadata": {},
   "source": [
    "##### Remove outliers: LotArea, TotalBsmtSF"
   ]
  },
  {
   "cell_type": "code",
   "execution_count": 16,
   "metadata": {
    "scrolled": true
   },
   "outputs": [],
   "source": [
    "df_train = df_train[df_train.LotArea < 100000]\n",
    "df_train = df_train[df_train.TotalBsmtSF < 3500]\n",
    "\n",
    "# 5 outliers from the test dataset in total"
   ]
  },
  {
   "cell_type": "markdown",
   "metadata": {},
   "source": [
    "## Feature Selection\n",
    "\n",
    "### 1. Random Forest"
   ]
  },
  {
   "cell_type": "code",
   "execution_count": 17,
   "metadata": {
    "scrolled": true
   },
   "outputs": [],
   "source": [
    "from sklearn import tree, ensemble\n",
    "from sklearn.metrics import mean_squared_log_error"
   ]
  },
  {
   "cell_type": "markdown",
   "metadata": {},
   "source": [
    "##### Encode categorical variables"
   ]
  },
  {
   "cell_type": "code",
   "execution_count": 18,
   "metadata": {
    "scrolled": true
   },
   "outputs": [],
   "source": [
    "# filter out predictor variables for RF selections\n",
    "rf_agg = pd.concat([df_train, df_test], axis = 0, sort = False)\n",
    "rf_x = rf_agg.drop(['Id', 'SalePrice', 'PricePerSF'], axis = 1)\n",
    "\n",
    "# encode categorical variables for RF\n",
    "df_feature = pd.DataFrame(rf_x.dtypes, columns = ['Type'])\n",
    "lst_cat = df_feature[df_feature['Type'] == object].index.tolist()\n",
    "for f in lst_cat:\n",
    "    u = list(set(rf_x[f]))\n",
    "    rf_x[f] = [u.index(x) for x in rf_x[f]]\n",
    "    \n",
    "# separate the training and test data for RF models\n",
    "rf_x_train = rf_x[: 1455]\n",
    "rf_x_test = rf_x[1455:]"
   ]
  },
  {
   "cell_type": "code",
   "execution_count": 26,
   "metadata": {
    "scrolled": true
   },
   "outputs": [],
   "source": [
    "# Define a RandForest funciton for recursive RF modeling\n",
    "\n",
    "def RandForest(x, y, title, perc = 0.01, random = 1, log = True):\n",
    "    rf = ensemble.RandomForestRegressor()\n",
    "    rf.set_params(oob_score = True, n_estimators = 500, max_features = 10, random_state = random)\n",
    "    rf.fit(x, y)\n",
    "\n",
    "    # print RF oob & score\n",
    "    print('RF oob score: %.4f'%rf.oob_score_)\n",
    "    print('RF score: %.4f'%rf.score(x, y))\n",
    "\n",
    "    # create a dataframe for feature importances\n",
    "    df_fi = pd.DataFrame(rf.feature_importances_, index = x.columns, columns = ['Importance']).sort_values(by = 'Importance', ascending = False)\n",
    "    \n",
    "    # get the count of features with feature importance > Perc (1% by default)\n",
    "    row = df_fi[df_fi.Importance > perc].shape[0]\n",
    "    \n",
    "    # plot features with FI > Perc (1% by default)\n",
    "    plt.figure(figsize = (10, 5))\n",
    "    plt.barh(df_fi.index[:row], df_fi.Importance[:row], color = 'crimson', alpha = 0.75)\n",
    "    plt.title('Top {} Feature Importances (Over {}%) - {}'.format(row, perc * 100, title))\n",
    "    \n",
    "    # separate target varibales of SalePrice and PricePerSF\n",
    "    agg = pd.concat([df_train, df_test], axis = 0, sort = False)\n",
    "    y_train = agg[: 1455].SalePrice\n",
    "    \n",
    "    if log:\n",
    "        rmsle = np.sqrt(mean_squared_log_error(y_train, np.exp(rf.predict(x))))\n",
    "    else:\n",
    "        rmsle = np.sqrt(mean_squared_log_error(y_train, rf.predict(x) * x.TotalLvArea))\n",
    "    print('RF RMSLE:', np.round(rmsle, 6))\n",
    "    print('-' * 50)\n",
    "    \n",
    "    lst = df_fi[:row].index.tolist()\n",
    "    print('Top {} important features by FI: {}'.format(row, lst))\n",
    "    \n",
    "    # return list of top features\n",
    "    return lst, rf"
   ]
  },
  {
   "cell_type": "markdown",
   "metadata": {},
   "source": [
    "### Random Forest run on SalePrice"
   ]
  },
  {
   "cell_type": "code",
   "execution_count": 27,
   "metadata": {
    "scrolled": false
   },
   "outputs": [
    {
     "name": "stdout",
     "output_type": "stream",
     "text": [
      "RF oob score: 0.8865\n",
      "RF score: 0.9848\n",
      "RF RMSLE: 0.049233\n",
      "--------------------------------------------------\n",
      "Top 24 important features by FI: ['TotalArea', 'TotalLvArea', 'OverallQual', 'GrLivArea', 'Vintage', 'ExterQual', 'YearBuilt', 'TotalBsmtSF', 'GarageYrBlt', 'GarageArea', 'GarageCars', 'KitchenQual', '1stFlrSF', 'GarageAge', 'BsmtQual', 'HouseAge', 'FullBath', 'LotArea', 'BsmtFinSF1', 'Fireplaces', 'YearRemodAdd', 'FireplaceQu', '2ndFlrSF', 'FireplacesBin']\n"
     ]
    },
    {
     "data": {
      "image/png": "[encoded data removed]",
      "text/plain": [
       "<Figure size 720x360 with 1 Axes>"
      ]
     },
     "metadata": {
      "needs_background": "light"
     },
     "output_type": "display_data"
    }
   ],
   "source": [
    "# create the response variable - logged SalePrice\n",
    "rf_y = np.log(df_train.SalePrice)\n",
    "\n",
    "# run function and get the list of top features\n",
    "lst1, rf1 = RandForest(rf_x_train, rf_y, 'Logged Sale Price', log = True)\n",
    "\n",
    "# save RF model predict as a csv for submission\n",
    "rf_y_test = np.exp(rf1.predict(rf_x_test))\n",
    "sub = pd.DataFrame({'ID': df_test.Id, 'SalePrice': rf_y_test}).set_index('ID')\n",
    "sub.to_csv('Submission_logPx_RF1.csv')"
   ]
  },
  {
   "cell_type": "markdown",
   "metadata": {},
   "source": [
    "##### Tune Random Forest based on feature importances obtained above"
   ]
  },
  {
   "cell_type": "code",
   "execution_count": 28,
   "metadata": {},
   "outputs": [
    {
     "data": {
      "text/plain": [
       "['TotalArea',\n",
       " 'TotalLvArea',\n",
       " 'OverallQual',\n",
       " 'GrLivArea',\n",
       " 'Vintage',\n",
       " 'ExterQual',\n",
       " 'YearBuilt',\n",
       " 'TotalBsmtSF',\n",
       " 'GarageYrBlt',\n",
       " 'GarageArea',\n",
       " 'GarageCars',\n",
       " 'KitchenQual',\n",
       " '1stFlrSF',\n",
       " 'GarageAge',\n",
       " 'BsmtQual',\n",
       " 'HouseAge',\n",
       " 'FullBath',\n",
       " 'LotArea',\n",
       " 'BsmtFinSF1',\n",
       " 'Fireplaces',\n",
       " 'YearRemodAdd',\n",
       " 'FireplaceQu',\n",
       " '2ndFlrSF',\n",
       " 'FireplacesBin']"
      ]
     },
     "execution_count": 28,
     "metadata": {},
     "output_type": "execute_result"
    }
   ],
   "source": [
    "lst1 "
   ]
  },
  {
   "cell_type": "code",
   "execution_count": 38,
   "metadata": {
    "scrolled": false
   },
   "outputs": [
    {
     "name": "stdout",
     "output_type": "stream",
     "text": [
      "RF oob score: 0.8672\n",
      "RF score: 0.9821\n",
      "RF RMSLE: 0.053372\n",
      "--------------------------------------------------\n",
      "Top 8 important features by FI: ['TotalArea', 'OverallQual', 'TotalLvArea', 'Vintage', 'HouseAge', 'GrLivArea', 'LotArea', 'ExterQual']\n"
     ]
    },
    {
     "data": {
      "image/png": "[encoded data removed]",
      "text/plain": [
       "<Figure size 720x360 with 1 Axes>"
      ]
     },
     "metadata": {
      "needs_background": "light"
     },
     "output_type": "display_data"
    }
   ],
   "source": [
    "# remove collinear features\n",
    "\n",
    "lst1_2 = ['TotalArea',\n",
    " 'TotalLvArea',\n",
    " 'OverallQual',\n",
    " 'GrLivArea',\n",
    " 'Vintage',\n",
    " 'ExterQual',\n",
    "#  'YearBuilt',\n",
    "#  'TotalBsmtSF',\n",
    "#  'GarageYrBlt',\n",
    " 'GarageArea',\n",
    " 'GarageCars',\n",
    " 'KitchenQual',\n",
    "#  '1stFlrSF',\n",
    " 'GarageAge',\n",
    " 'BsmtQual',\n",
    " 'HouseAge',\n",
    " 'FullBath',\n",
    " 'LotArea',\n",
    "#  'BsmtFinSF1',\n",
    " 'Fireplaces',\n",
    "#  'YearRemodAdd',\n",
    " 'FireplaceQu',\n",
    "#  '2ndFlrSF',\n",
    " 'FireplacesBin']\n",
    "\n",
    "# run function to get list and rf model\n",
    "lst1_2_2, rf1_2 = RandForest(rf_x_train[lst1_2], rf_y, 'Logged Sale Price', perc = 0.02, log = True)\n",
    "\n",
    "# save RF model predict as a csv for submission\n",
    "rf_y_test = np.exp(rf1_2.predict(rf_x_test[lst1_2]))\n",
    "sub = pd.DataFrame({'ID': df_test.Id, 'SalePrice': rf_y_test}).set_index('ID')\n",
    "sub.to_csv('Submission_logPx_RF2.csv')"
   ]
  },
  {
   "cell_type": "markdown",
   "metadata": {},
   "source": [
    "### Random forest run on PricePerSF"
   ]
  },
  {
   "cell_type": "code",
   "execution_count": 42,
   "metadata": {
    "scrolled": false
   },
   "outputs": [
    {
     "name": "stdout",
     "output_type": "stream",
     "text": [
      "RF oob score: 0.6681\n",
      "RF score: 0.9552\n",
      "RF RMSLE: 0.057474\n",
      "--------------------------------------------------\n",
      "Top 28 important features by FI: ['YearBuilt', 'Vintage', 'GarageYrBlt', 'BsmtUnfSF', 'OverallQual', 'TotalLvArea', 'GarageAge', 'HouseAge', 'TotalBsmtSF', 'YearRemodAdd', 'OverallCond', 'ExterQual', 'TotalArea', 'BsmtQual', 'KitchenQual', 'GarageArea', 'GrLivArea', 'BsmtFinSF1', '1stFlrSF', 'LotArea', 'BsmtExposure', 'Neighborhood', 'LotFrontage', 'GarageCars', 'OutdoorArea', 'BsmtCond', 'TotRmsAbvGrd', 'Foundation']\n"
     ]
    },
    {
     "data": {
      "image/png": "[encoded data removed]",
      "text/plain": [
       "<Figure size 720x360 with 1 Axes>"
      ]
     },
     "metadata": {
      "needs_background": "light"
     },
     "output_type": "display_data"
    }
   ],
   "source": [
    "# create response variable on price/sf\n",
    "rf_y2 = df_train.PricePerSF\n",
    "\n",
    "# run fucntion and get list of top features\n",
    "lst2, rf2 = RandForest(rf_x_train, rf_y2, 'Price/SF', log = False)\n",
    "\n",
    "# save RF model predict as a csv for submission\n",
    "rf_y_test = np.exp(rf2.predict(rf_x_test))\n",
    "sub = pd.DataFrame({'ID': df_test.Id, 'SalePrice': rf_y_test}).set_index('ID')\n",
    "sub.to_csv('Submission_PxSF_RF1.csv')"
   ]
  },
  {
   "cell_type": "markdown",
   "metadata": {},
   "source": [
    "##### Tune Random Forest based on feature importances obtained above"
   ]
  },
  {
   "cell_type": "code",
   "execution_count": 40,
   "metadata": {},
   "outputs": [
    {
     "data": {
      "text/plain": [
       "['YearBuilt',\n",
       " 'Vintage',\n",
       " 'GarageYrBlt',\n",
       " 'BsmtUnfSF',\n",
       " 'OverallQual',\n",
       " 'TotalLvArea',\n",
       " 'GarageAge',\n",
       " 'HouseAge',\n",
       " 'TotalBsmtSF',\n",
       " 'YearRemodAdd',\n",
       " 'OverallCond',\n",
       " 'ExterQual',\n",
       " 'TotalArea',\n",
       " 'BsmtQual',\n",
       " 'KitchenQual',\n",
       " 'GarageArea',\n",
       " 'GrLivArea',\n",
       " 'BsmtFinSF1',\n",
       " '1stFlrSF',\n",
       " 'LotArea',\n",
       " 'BsmtExposure',\n",
       " 'Neighborhood',\n",
       " 'LotFrontage',\n",
       " 'GarageCars',\n",
       " 'OutdoorArea',\n",
       " 'BsmtCond',\n",
       " 'TotRmsAbvGrd',\n",
       " 'Foundation']"
      ]
     },
     "execution_count": 40,
     "metadata": {},
     "output_type": "execute_result"
    }
   ],
   "source": [
    "lst2"
   ]
  },
  {
   "cell_type": "code",
   "execution_count": 43,
   "metadata": {
    "scrolled": false
   },
   "outputs": [
    {
     "name": "stdout",
     "output_type": "stream",
     "text": [
      "RF oob score: 0.6850\n",
      "RF score: 0.9576\n",
      "RF RMSLE: 0.056116\n",
      "--------------------------------------------------\n",
      "Top 16 important features by FI: ['Vintage', 'BsmtUnfSF', 'OverallQual', 'TotalLvArea', 'GarageAge', 'TotalBsmtSF', 'OverallCond', 'HouseAge', 'ExterQual', 'GarageArea', 'LotArea', 'TotalArea', 'LotFrontage', 'KitchenQual', 'Neighborhood', 'BsmtQual']\n"
     ]
    },
    {
     "data": {
      "image/png": "[encoded data removed]",
      "text/plain": [
       "<Figure size 720x360 with 1 Axes>"
      ]
     },
     "metadata": {
      "needs_background": "light"
     },
     "output_type": "display_data"
    }
   ],
   "source": [
    "lst2_2 = [#'YearBuilt',\n",
    " 'Vintage',\n",
    "#  'GarageYrBlt',\n",
    " 'BsmtUnfSF',\n",
    " 'OverallQual',\n",
    " 'TotalLvArea',\n",
    " 'GarageAge',\n",
    " 'HouseAge',\n",
    " 'TotalBsmtSF',\n",
    "#  'YearRemodAdd',\n",
    " 'OverallCond',\n",
    " 'ExterQual',\n",
    " 'TotalArea',\n",
    " 'BsmtQual',\n",
    " 'KitchenQual',\n",
    " 'GarageArea',\n",
    "#  'GrLivArea',\n",
    "#  'BsmtFinSF1',\n",
    "#  '1stFlrSF',\n",
    " 'LotArea',\n",
    " 'BsmtExposure',\n",
    " 'Neighborhood',\n",
    " 'LotFrontage',\n",
    " 'GarageCars',\n",
    "#  'OutdoorArea',\n",
    " 'BsmtCond',\n",
    " 'TotRmsAbvGrd',\n",
    " 'Foundation']\n",
    "\n",
    "# run function to get features and RF regressor\n",
    "lst2_2_2, rf2_2 = RandForest(rf_x_train[lst2_2], rf_y2, 'Price/SF', 0.02, log = False)\n",
    "\n",
    "# save RF model predict as a csv for submission\n",
    "rf_y_test = rf2_2.predict(rf_x_test[lst2_2]) * rf_x_test.TotalLvArea\n",
    "sub = pd.DataFrame({'ID': df_test.Id, 'SalePrice': rf_y_test}).set_index('ID')\n",
    "sub.to_csv('Submission_PxSF_RF2.csv')"
   ]
  },
  {
   "cell_type": "markdown",
   "metadata": {},
   "source": [
    "### 2. Regularization with Lasso"
   ]
  },
  {
   "cell_type": "code",
   "execution_count": 45,
   "metadata": {
    "scrolled": true
   },
   "outputs": [],
   "source": [
    "# import libraries\n",
    "from sklearn.model_selection import train_test_split\n",
    "from sklearn.linear_model import LinearRegression, Lasso, ElasticNet, LassoCV, ElasticNetCV"
   ]
  },
  {
   "cell_type": "code",
   "execution_count": 46,
   "metadata": {
    "scrolled": false
   },
   "outputs": [],
   "source": [
    "# LassoCV()"
   ]
  },
  {
   "cell_type": "code",
   "execution_count": 47,
   "metadata": {
    "scrolled": true
   },
   "outputs": [],
   "source": [
    "# define a funciton to repeatedly perform Lasso regularization\n",
    "\n",
    "def lasso_cv(x, y, alphas = None):\n",
    "    lasso = LassoCV(alphas = alphas, normalize = True, cv = 5, random_state = 0, max_iter = 100000)\n",
    "    lasso.fit(x, y)\n",
    "    coef = pd.Series(lasso.coef_, index = x.columns)\n",
    "    print('LassoCV Summary:\\nR^2:', lasso.score(x, y))\n",
    "    print('alpha:', lasso.alpha_)\n",
    "    print('# of non-zero coef:', len(coef[coef != 0]))\n",
    "    print('-' * 50)\n",
    "    print(coef[coef != 0])\n",
    "    pred = lasso.predict(x)\n",
    "    return coef[coef != 0], pred, lasso"
   ]
  },
  {
   "cell_type": "markdown",
   "metadata": {},
   "source": [
    "#### Apply regularization (Lasso) to above two selected lists, `lst1_2` and `lst2_2`, and check the performances"
   ]
  },
  {
   "cell_type": "code",
   "execution_count": 48,
   "metadata": {
    "scrolled": true
   },
   "outputs": [],
   "source": [
    "# define a function to test RMSLE of Lasso\n",
    "\n",
    "def lasso_error(dummy_col, feature_lst, log = True):\n",
    "    agg = pd.concat([df_train, df_test], axis = 0, sort = False)\n",
    "    \n",
    "    # separate target varibales of SalePrice and PricePerSF\n",
    "    y = agg[: 1455].SalePrice\n",
    "    y_2 = agg[: 1455].PricePerSF\n",
    "    \n",
    "    # create dumy variables based on input list\n",
    "    agg = pd.get_dummies(agg[feature_lst], columns = dummy_col, drop_first = True)\n",
    "    \n",
    "    # predictor variables\n",
    "    x = agg[: 1455]\n",
    "    \n",
    "    if log:\n",
    "        coef, pred, model = lasso_cv(x, np.log(y))\n",
    "        rmsle = np.sqrt(mean_squared_log_error(y, np.exp(model.predict(x))))\n",
    "    else:\n",
    "        coef, pred, model = lasso_cv(x, y_2)\n",
    "        rmsle = np.sqrt(mean_squared_log_error(y, model.predict(x) * x.TotalLvArea))\n",
    "    print('\\nRMSLE is:', np.round(rmsle, 6))\n",
    "    \n",
    "    return model, agg"
   ]
  },
  {
   "cell_type": "code",
   "execution_count": 49,
   "metadata": {
    "scrolled": false
   },
   "outputs": [
    {
     "data": {
      "text/plain": [
       "TotalArea      float64\n",
       "OverallQual      int64\n",
       "TotalLvArea    float64\n",
       "Vintage          int64\n",
       "HouseAge         int64\n",
       "GrLivArea        int64\n",
       "LotArea          int64\n",
       "ExterQual       object\n",
       "dtype: object"
      ]
     },
     "execution_count": 49,
     "metadata": {},
     "output_type": "execute_result"
    }
   ],
   "source": [
    "df_train[lst1_2_2].dtypes"
   ]
  },
  {
   "cell_type": "code",
   "execution_count": 57,
   "metadata": {
    "scrolled": false
   },
   "outputs": [
    {
     "name": "stdout",
     "output_type": "stream",
     "text": [
      "LassoCV Summary:\n",
      "R^2: 0.8600318711758106\n",
      "alpha: 8.801345527925429e-06\n",
      "# of non-zero coef: 17\n",
      "--------------------------------------------------\n",
      "TotalArea         0.000169\n",
      "TotalLvArea      -0.000027\n",
      "Vintage          -0.002168\n",
      "HouseAge         -0.002158\n",
      "GrLivArea         0.000095\n",
      "LotArea           0.000007\n",
      "OverallQual_2    -0.463538\n",
      "OverallQual_3    -0.236723\n",
      "OverallQual_4    -0.100752\n",
      "OverallQual_6     0.069888\n",
      "OverallQual_7     0.137031\n",
      "OverallQual_8     0.235624\n",
      "OverallQual_9     0.362918\n",
      "OverallQual_10    0.280292\n",
      "ExterQual_Fa     -0.281643\n",
      "ExterQual_Gd     -0.053993\n",
      "ExterQual_TA     -0.074096\n",
      "dtype: float64\n",
      "\n",
      "RMSLE is: 0.149206\n"
     ]
    }
   ],
   "source": [
    "dummy_1 = ['OverallQual', 'ExterQual']\n",
    "rf_lasso_1, agg1 = lasso_error(dummy_1, lst1_2_2)"
   ]
  },
  {
   "cell_type": "code",
   "execution_count": 58,
   "metadata": {},
   "outputs": [
    {
     "data": {
      "text/plain": [
       "Vintage           int64\n",
       "BsmtUnfSF       float64\n",
       "OverallQual       int64\n",
       "TotalLvArea     float64\n",
       "GarageAge       float64\n",
       "TotalBsmtSF     float64\n",
       "OverallCond       int64\n",
       "HouseAge          int64\n",
       "ExterQual        object\n",
       "GarageArea      float64\n",
       "LotArea           int64\n",
       "TotalArea       float64\n",
       "LotFrontage     float64\n",
       "KitchenQual      object\n",
       "Neighborhood     object\n",
       "BsmtQual         object\n",
       "dtype: object"
      ]
     },
     "execution_count": 58,
     "metadata": {},
     "output_type": "execute_result"
    }
   ],
   "source": [
    "df_train[lst2_2_2].dtypes"
   ]
  },
  {
   "cell_type": "code",
   "execution_count": 59,
   "metadata": {
    "scrolled": false
   },
   "outputs": [
    {
     "name": "stdout",
     "output_type": "stream",
     "text": [
      "LassoCV Summary:\n",
      "R^2: 0.7373573976779013\n",
      "alpha: 0.00021164388561804937\n",
      "# of non-zero coef: 57\n",
      "--------------------------------------------------\n",
      "Vintage                 -0.168281\n",
      "BsmtUnfSF               -0.006064\n",
      "TotalLvArea             -0.014577\n",
      "GarageAge               -0.003675\n",
      "TotalBsmtSF             -0.005487\n",
      "HouseAge                -0.050455\n",
      "GarageArea               0.002763\n",
      "LotArea                  0.000354\n",
      "TotalArea                0.006760\n",
      "LotFrontage              0.011923\n",
      "OverallQual_2          -12.260969\n",
      "OverallQual_3          -11.822374\n",
      "OverallQual_4          -10.377653\n",
      "OverallQual_5           -9.529304\n",
      "OverallQual_6           -7.055462\n",
      "OverallQual_7           -2.443943\n",
      "OverallQual_8            3.566064\n",
      "OverallQual_9           11.671988\n",
      "OverallQual_10          18.012650\n",
      "OverallCond_2           -2.751945\n",
      "OverallCond_3           -1.839894\n",
      "OverallCond_5            3.106833\n",
      "OverallCond_6            6.848142\n",
      "OverallCond_7           10.464840\n",
      "OverallCond_8           10.815878\n",
      "OverallCond_9           16.718620\n",
      "ExterQual_Fa            -4.276446\n",
      "ExterQual_Gd            -1.465062\n",
      "ExterQual_TA            -1.640342\n",
      "KitchenQual_Fa          -5.469599\n",
      "KitchenQual_Gd          -4.570664\n",
      "KitchenQual_TA          -5.432219\n",
      "Neighborhood_Blueste    -6.493085\n",
      "Neighborhood_BrDale     -6.644620\n",
      "Neighborhood_BrkSide     2.970731\n",
      "Neighborhood_ClearCr     1.363802\n",
      "Neighborhood_CollgCr     0.613620\n",
      "Neighborhood_Crawfor     9.549015\n",
      "Neighborhood_Edwards    -3.524000\n",
      "Neighborhood_Gilbert     1.785489\n",
      "Neighborhood_IDOTRR     -6.047039\n",
      "Neighborhood_MeadowV   -10.042502\n",
      "Neighborhood_Mitchel    -4.060111\n",
      "Neighborhood_NPkVill    -2.207101\n",
      "Neighborhood_NWAmes     -2.620618\n",
      "Neighborhood_NoRidge     8.520509\n",
      "Neighborhood_NridgHt     4.141828\n",
      "Neighborhood_OldTown    -3.391223\n",
      "Neighborhood_SWISU       1.450917\n",
      "Neighborhood_Sawyer     -1.987881\n",
      "Neighborhood_SawyerW    -1.639437\n",
      "Neighborhood_Somerst     3.665206\n",
      "Neighborhood_StoneBr     8.500309\n",
      "Neighborhood_Veenker     2.938032\n",
      "BsmtQual_Fa            -10.093602\n",
      "BsmtQual_Gd             -7.707528\n",
      "BsmtQual_TA             -9.446478\n",
      "dtype: float64\n",
      "\n",
      "RMSLE is: 0.12318\n"
     ]
    }
   ],
   "source": [
    "dummy_2 = ['OverallQual', 'OverallCond', 'ExterQual', 'KitchenQual', 'Neighborhood', 'BsmtQual']\n",
    "rf_lasso_2, agg2 = lasso_error(dummy_2, lst2_2_2, log = False)"
   ]
  },
  {
   "cell_type": "code",
   "execution_count": 60,
   "metadata": {
    "scrolled": false
   },
   "outputs": [],
   "source": [
    "y_test1 = np.exp(rf_lasso_1.predict(agg1[1455:]))\n",
    "sub = pd.DataFrame({'ID': df_test.Id, 'SalePrice': y_test1}).set_index('ID')\n",
    "sub.to_csv('Submission_logPx_RFLasso.csv')"
   ]
  },
  {
   "cell_type": "code",
   "execution_count": 61,
   "metadata": {
    "scrolled": true
   },
   "outputs": [],
   "source": [
    "y_test2 = rf_lasso_2.predict(agg2[1455:]) * agg2[1455:].TotalLvArea\n",
    "sub = pd.DataFrame({'ID': df_test.Id, 'SalePrice': y_test2}).set_index('ID')\n",
    "sub.to_csv('Submission_pxSF_RFLasso.csv')"
   ]
  },
  {
   "cell_type": "code",
   "execution_count": null,
   "metadata": {},
   "outputs": [],
   "source": []
  },
  {
   "cell_type": "code",
   "execution_count": null,
   "metadata": {},
   "outputs": [],
   "source": []
  },
  {
   "cell_type": "code",
   "execution_count": null,
   "metadata": {},
   "outputs": [],
   "source": []
  },
  {
   "cell_type": "code",
   "execution_count": null,
   "metadata": {},
   "outputs": [],
   "source": []
  },
  {
   "cell_type": "code",
   "execution_count": null,
   "metadata": {},
   "outputs": [],
   "source": []
  },
  {
   "cell_type": "code",
   "execution_count": null,
   "metadata": {},
   "outputs": [],
   "source": []
  },
  {
   "cell_type": "code",
   "execution_count": null,
   "metadata": {},
   "outputs": [],
   "source": []
  },
  {
   "cell_type": "code",
   "execution_count": null,
   "metadata": {},
   "outputs": [],
   "source": []
  },
  {
   "cell_type": "code",
   "execution_count": null,
   "metadata": {},
   "outputs": [],
   "source": []
  },
  {
   "cell_type": "code",
   "execution_count": null,
   "metadata": {
    "scrolled": true
   },
   "outputs": [],
   "source": [
    "coef1.index"
   ]
  },
  {
   "cell_type": "code",
   "execution_count": null,
   "metadata": {
    "scrolled": false
   },
   "outputs": [],
   "source": [
    "coef1\n",
    "np.round(np.exp(pred1), -2)\n",
    "test_y1 = lasso_agg1[1461:]\n",
    "model1.predict(test_y1[coef1.index])"
   ]
  },
  {
   "cell_type": "code",
   "execution_count": null,
   "metadata": {
    "scrolled": true
   },
   "outputs": [],
   "source": [
    "lasso = LassoCV(normalize = True, cv = 5, random_state = 0, max_iter = 100000)\n",
    "lasso.fit(lasso_x1, rf_y)\n",
    "lasso.predict(lasso_x1)"
   ]
  },
  {
   "cell_type": "markdown",
   "metadata": {},
   "source": [
    "#### Lists of categarical and continuous features -> aggregated feature list"
   ]
  },
  {
   "cell_type": "code",
   "execution_count": 74,
   "metadata": {
    "scrolled": true
   },
   "outputs": [
    {
     "data": {
      "text/plain": [
       "23"
      ]
     },
     "execution_count": 74,
     "metadata": {},
     "output_type": "execute_result"
    }
   ],
   "source": [
    "feature_cat = ['Neighborhood',\n",
    "'LandContour',\n",
    "'Alley',\n",
    "'HeatingQC',\n",
    "'MSSubClass',\n",
    "'MSZoning',\n",
    "'OverallQual',\n",
    "'FireplaceQu',\n",
    "'MasVnrType',\n",
    "'ExterQual',\n",
    "'KitchenQual',\n",
    "'FireplacesBin',\n",
    "'LotShapeBin',\n",
    "'PoolBin',\n",
    "'TotalBath']\n",
    "\n",
    "feature_con = ['HouseAge',\n",
    "'Vintage',\n",
    "'GrLivArea',\n",
    "'LotArea',\n",
    "'LotFrontage',\n",
    "'GarageArea',\n",
    "'TotalLvArea',\n",
    "'OutdoorArea']\n",
    "\n",
    "feature_all = feature_cat + feature_con\n",
    "\n",
    "len(feature_all)"
   ]
  },
  {
   "cell_type": "code",
   "execution_count": 44,
   "metadata": {
    "scrolled": false
   },
   "outputs": [
    {
     "data": {
      "text/plain": [
       "['Vintage',\n",
       " 'BsmtUnfSF',\n",
       " 'OverallQual',\n",
       " 'TotalLvArea',\n",
       " 'GarageAge',\n",
       " 'TotalBsmtSF',\n",
       " 'OverallCond',\n",
       " 'HouseAge',\n",
       " 'ExterQual',\n",
       " 'GarageArea',\n",
       " 'LotArea',\n",
       " 'TotalArea',\n",
       " 'LotFrontage',\n",
       " 'KitchenQual',\n",
       " 'Neighborhood',\n",
       " 'BsmtQual']"
      ]
     },
     "execution_count": 44,
     "metadata": {},
     "output_type": "execute_result"
    }
   ],
   "source": [
    "lst1_2_2 and lst2_2_2"
   ]
  },
  {
   "cell_type": "markdown",
   "metadata": {},
   "source": [
    "#### Separating feature and target columns"
   ]
  },
  {
   "cell_type": "code",
   "execution_count": 65,
   "metadata": {
    "scrolled": false
   },
   "outputs": [],
   "source": [
    "# X = df_train[feature_all]\n",
    "# X = pd.get_dummies(X, columns = feature_cat, drop_first = True)\n",
    "# y = np.log(df_train.SalePrice)"
   ]
  },
  {
   "cell_type": "code",
   "execution_count": 68,
   "metadata": {
    "scrolled": false
   },
   "outputs": [],
   "source": [
    "# lasso_cv(X, y)"
   ]
  },
  {
   "cell_type": "code",
   "execution_count": 75,
   "metadata": {
    "scrolled": false
   },
   "outputs": [
    {
     "name": "stdout",
     "output_type": "stream",
     "text": [
      "LassoCV Summary:\n",
      "R^2: 0.9025590454683425\n",
      "alpha: 9.716354435318748e-06\n",
      "# of non-zero coef: 82\n",
      "--------------------------------------------------\n",
      "HouseAge               -0.001774\n",
      "Vintage                -0.001549\n",
      "GrLivArea               0.000077\n",
      "LotArea                 0.000003\n",
      "LotFrontage             0.000229\n",
      "GarageArea              0.000202\n",
      "TotalLvArea             0.000112\n",
      "OutdoorArea             0.000134\n",
      "Neighborhood_Blueste    0.056247\n",
      "Neighborhood_BrDale    -0.018538\n",
      "Neighborhood_BrkSide    0.034010\n",
      "Neighborhood_ClearCr    0.059301\n",
      "Neighborhood_Crawfor    0.170880\n",
      "Neighborhood_Edwards   -0.065951\n",
      "Neighborhood_Gilbert   -0.010828\n",
      "Neighborhood_IDOTRR    -0.031808\n",
      "Neighborhood_MeadowV   -0.110817\n",
      "Neighborhood_Mitchel   -0.026852\n",
      "Neighborhood_NAmes      0.003252\n",
      "Neighborhood_NPkVill    0.063506\n",
      "Neighborhood_NWAmes    -0.003252\n",
      "Neighborhood_NoRidge    0.085069\n",
      "Neighborhood_NridgHt    0.063182\n",
      "Neighborhood_OldTown   -0.043475\n",
      "Neighborhood_Sawyer    -0.020524\n",
      "Neighborhood_SawyerW   -0.003034\n",
      "Neighborhood_Somerst    0.007027\n",
      "Neighborhood_StoneBr    0.138576\n",
      "Neighborhood_Timber     0.005999\n",
      "Neighborhood_Veenker    0.131623\n",
      "                          ...   \n",
      "MSZoning_RH             0.287043\n",
      "MSZoning_RL             0.325824\n",
      "MSZoning_RM             0.295270\n",
      "OverallQual_2          -0.331806\n",
      "OverallQual_3          -0.163465\n",
      "OverallQual_4          -0.055232\n",
      "OverallQual_6           0.042802\n",
      "OverallQual_7           0.090867\n",
      "OverallQual_8           0.151799\n",
      "OverallQual_9           0.259804\n",
      "OverallQual_10          0.240261\n",
      "FireplaceQu_Fa         -0.000325\n",
      "FireplaceQu_Gd          0.015508\n",
      "FireplaceQu_Po         -0.029536\n",
      "MasVnrType_BrkFace      0.046319\n",
      "MasVnrType_None         0.038026\n",
      "MasVnrType_Stone        0.057136\n",
      "ExterQual_Fa           -0.116470\n",
      "ExterQual_Gd           -0.016933\n",
      "ExterQual_TA           -0.009139\n",
      "KitchenQual_Fa         -0.089625\n",
      "KitchenQual_Gd         -0.052619\n",
      "KitchenQual_TA         -0.068107\n",
      "FireplacesBin_Yes       0.040332\n",
      "LotShapeBin_Reg        -0.003474\n",
      "PoolBin_Yes             0.011459\n",
      "TotalBath_1.0          -0.026322\n",
      "TotalBath_3.0           0.051570\n",
      "TotalBath_4.0           0.008417\n",
      "TotalBath_6.0           0.420044\n",
      "Length: 82, dtype: float64\n",
      "\n",
      "RMSLE is: 0.124492\n"
     ]
    }
   ],
   "source": [
    "lasso_1, agg_1 = lasso_error(feature_cat, feature_all, log = True)\n",
    "\n",
    "y_test = np.exp(lasso_1.predict(agg_1[1455:]))\n",
    "sub = pd.DataFrame({'ID': df_test.Id, 'SalePrice': y_test}).set_index('ID')\n",
    "sub.to_csv('Submission_logPx_Lasso.csv')"
   ]
  },
  {
   "cell_type": "code",
   "execution_count": 77,
   "metadata": {},
   "outputs": [
    {
     "name": "stdout",
     "output_type": "stream",
     "text": [
      "LassoCV Summary:\n",
      "R^2: 0.7129251203023381\n",
      "alpha: 0.0007431222617792676\n",
      "# of non-zero coef: 85\n",
      "--------------------------------------------------\n",
      "HouseAge                -0.107160\n",
      "Vintage                 -0.113336\n",
      "GrLivArea                0.012288\n",
      "LotArea                  0.000295\n",
      "LotFrontage              0.001123\n",
      "GarageArea               0.011492\n",
      "TotalLvArea             -0.021096\n",
      "OutdoorArea              0.008035\n",
      "Neighborhood_Blueste     2.778190\n",
      "Neighborhood_BrDale      0.472714\n",
      "Neighborhood_BrkSide     4.641172\n",
      "Neighborhood_ClearCr     3.951332\n",
      "Neighborhood_Crawfor    11.900404\n",
      "Neighborhood_Edwards    -3.032573\n",
      "Neighborhood_Gilbert    -0.249330\n",
      "Neighborhood_IDOTRR     -1.635148\n",
      "Neighborhood_MeadowV    -5.862822\n",
      "Neighborhood_Mitchel    -2.410531\n",
      "Neighborhood_NAmes       1.144265\n",
      "Neighborhood_NPkVill     4.337732\n",
      "Neighborhood_NWAmes     -0.180073\n",
      "Neighborhood_NoRidge     9.821499\n",
      "Neighborhood_NridgHt     4.582713\n",
      "Neighborhood_OldTown    -1.420094\n",
      "Neighborhood_SWISU       1.441443\n",
      "Neighborhood_Sawyer     -1.049561\n",
      "Neighborhood_SawyerW    -0.296683\n",
      "Neighborhood_Somerst     0.171026\n",
      "Neighborhood_StoneBr    10.021075\n",
      "Neighborhood_Veenker     8.272616\n",
      "                          ...    \n",
      "MSZoning_RL             13.939981\n",
      "MSZoning_RM             12.468186\n",
      "OverallQual_2          -10.076423\n",
      "OverallQual_3           -8.488762\n",
      "OverallQual_4           -6.419149\n",
      "OverallQual_5           -4.473070\n",
      "OverallQual_6           -2.464839\n",
      "OverallQual_7            0.498263\n",
      "OverallQual_8            7.111239\n",
      "OverallQual_9           17.927614\n",
      "OverallQual_10          26.551527\n",
      "FireplaceQu_Fa          -2.092714\n",
      "FireplaceQu_Po          -1.218286\n",
      "FireplaceQu_TA          -1.414901\n",
      "MasVnrType_BrkFace       3.687447\n",
      "MasVnrType_None          3.424483\n",
      "MasVnrType_Stone         4.867983\n",
      "ExterQual_Fa            -5.758125\n",
      "ExterQual_Gd            -3.226544\n",
      "ExterQual_TA            -3.618259\n",
      "KitchenQual_Fa          -5.551864\n",
      "KitchenQual_Gd          -5.246675\n",
      "KitchenQual_TA          -5.895252\n",
      "FireplacesBin_Yes        2.629726\n",
      "LotShapeBin_Reg         -0.192887\n",
      "PoolBin_Yes              3.197137\n",
      "TotalBath_1.0           -0.114993\n",
      "TotalBath_3.0            4.318993\n",
      "TotalBath_4.0           10.907582\n",
      "TotalBath_6.0           22.159591\n",
      "Length: 85, dtype: float64\n",
      "\n",
      "RMSLE is: 0.128826\n"
     ]
    }
   ],
   "source": [
    "lasso_2, agg_2 = lasso_error(feature_cat, feature_all, log = False)\n",
    "\n",
    "y_test = lasso_2.predict(agg_2[1455:]) * agg_2[1455:].TotalLvArea\n",
    "sub = pd.DataFrame({'ID': df_test.Id, 'SalePrice': y_test}).set_index('ID')\n",
    "sub.to_csv('Submission_PxSF_Lasso.csv')"
   ]
  },
  {
   "cell_type": "code",
   "execution_count": null,
   "metadata": {
    "scrolled": true
   },
   "outputs": [],
   "source": [
    "# alphas = np.linspace(0.05, 20, 400)\n",
    "# lasso_cv(X, y, alphas = alphas)"
   ]
  },
  {
   "cell_type": "markdown",
   "metadata": {},
   "source": [
    "### Test the assumptions of linear models\n",
    "- Linearity\n",
    "- Normality\n",
    "- Homoscedaciticity\n",
    "- Independence\n",
    "- Milticolinearity"
   ]
  },
  {
   "cell_type": "code",
   "execution_count": null,
   "metadata": {
    "scrolled": false
   },
   "outputs": [],
   "source": [
    "feature_selected, pred = lasso_cv(X, y)"
   ]
  },
  {
   "cell_type": "code",
   "execution_count": null,
   "metadata": {
    "scrolled": false
   },
   "outputs": [],
   "source": [
    "pred_error = y - pred\n",
    "feature_con_sel = (feature_selected.index & feature_con).tolist()\n",
    "feature_con_sel"
   ]
  },
  {
   "cell_type": "code",
   "execution_count": null,
   "metadata": {
    "scrolled": true
   },
   "outputs": [],
   "source": [
    "sns.distplot(pred_error)\n",
    "sns.kdeplot(pred_error, shade = True, Label = 'Residual of Price')"
   ]
  },
  {
   "cell_type": "code",
   "execution_count": null,
   "metadata": {
    "scrolled": true
   },
   "outputs": [],
   "source": [
    "pred_error.skew()"
   ]
  },
  {
   "cell_type": "code",
   "execution_count": null,
   "metadata": {
    "scrolled": false
   },
   "outputs": [],
   "source": [
    "sns.jointplot"
   ]
  },
  {
   "cell_type": "code",
   "execution_count": null,
   "metadata": {
    "scrolled": true
   },
   "outputs": [],
   "source": [
    "for f in feature_con_sel:\n",
    "    sns.jointplot(df_train[f], y, kind = 'reg', ratio = 4, space = 0.1)"
   ]
  },
  {
   "cell_type": "code",
   "execution_count": null,
   "metadata": {
    "scrolled": true
   },
   "outputs": [],
   "source": [
    "df_train.head()"
   ]
  },
  {
   "cell_type": "code",
   "execution_count": null,
   "metadata": {
    "scrolled": true
   },
   "outputs": [],
   "source": []
  },
  {
   "cell_type": "code",
   "execution_count": null,
   "metadata": {
    "scrolled": true
   },
   "outputs": [],
   "source": []
  }
 ],
 "metadata": {
  "celltoolbar": "Raw Cell Format",
  "kernelspec": {
   "display_name": "Python 3",
   "language": "python",
   "name": "python3"
  },
  "language_info": {
   "codemirror_mode": {
    "name": "ipython",
    "version": 3
   },
   "file_extension": ".py",
   "mimetype": "text/x-python",
   "name": "python",
   "nbconvert_exporter": "python",
   "pygments_lexer": "ipython3",
   "version": "3.7.3"
  }
 },
 "nbformat": 4,
 "nbformat_minor": 2
}
